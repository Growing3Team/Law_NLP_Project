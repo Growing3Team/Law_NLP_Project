{
 "cells": [
  {
   "cell_type": "code",
   "execution_count": 20,
   "id": "54882225-6dc5-492a-a647-990ff7158280",
   "metadata": {},
   "outputs": [],
   "source": [
    "import pandas as pd\n",
    "import json\n",
    "import re"
   ]
  },
  {
   "cell_type": "code",
   "execution_count": 21,
   "id": "466e919e-b48c-4f6e-b230-fb3f271306d1",
   "metadata": {},
   "outputs": [],
   "source": [
    "#찬희 json로드\n",
    "file_path = r'D:\\Study\\Python\\Jupyter\\law_json_data\\clean_laws_chanhee.json'\n",
    "with open(file_path, 'r', encoding=\"UTF-8\") as jsonfile:\n",
    "    json_data_chan = json.load(jsonfile)    \n"
   ]
  },
  {
   "cell_type": "code",
   "execution_count": 22,
   "id": "09b59205-a1fc-4cf3-ba26-b2a4b9655c68",
   "metadata": {},
   "outputs": [],
   "source": [
    "#유정 json로드\n",
    "file_path = r'D:\\Study\\Python\\Jupyter\\law_json_data\\cleaned_laws_yujeong.json'\n",
    "with open(file_path, 'r', encoding=\"UTF-8\") as jsonfile:\n",
    "    json_data_yu = json.load(jsonfile)  "
   ]
  },
  {
   "cell_type": "code",
   "execution_count": 23,
   "id": "b68c146f-065e-48cd-96fd-5e1b6a544ed2",
   "metadata": {},
   "outputs": [],
   "source": [
    "#새하 json로드\n",
    "file_path = r'D:\\Study\\Python\\Jupyter\\law_json_data\\clean_laws_saeha.json'\n",
    "with open(file_path, 'r', encoding=\"UTF-8\") as jsonfile:\n",
    "    json_data_sae = json.load(jsonfile)  "
   ]
  },
  {
   "cell_type": "code",
   "execution_count": 24,
   "id": "614b034d-1bda-4272-aeba-52dc32441c5c",
   "metadata": {},
   "outputs": [],
   "source": [
    "#한슬 json로드\n",
    "file_path = r'D:\\Study\\Python\\Jupyter\\law_json_data\\clean_laws_hanseul.json'\n",
    "with open(file_path, 'r', encoding=\"UTF-8\") as jsonfile:\n",
    "    json_data_han = json.load(jsonfile)  "
   ]
  },
  {
   "cell_type": "code",
   "execution_count": 29,
   "id": "9e719c92-48ed-4f34-8006-7d5dfb0634d4",
   "metadata": {},
   "outputs": [],
   "source": [
    "json_data_chan_list = json_data_chan[\"laws\"]\n",
    "json_data_yu_list = json_data_yu[\"laws\"]\n",
    "json_data_sae_list = json_data_sae[\"laws\"]\n",
    "json_data_han_list = json_data_han[\"laws\"]"
   ]
  },
  {
   "cell_type": "code",
   "execution_count": 30,
   "id": "8691121f-85fd-4601-983a-27869a200805",
   "metadata": {},
   "outputs": [
    {
     "name": "stdout",
     "output_type": "stream",
     "text": [
      "158957\n"
     ]
    }
   ],
   "source": [
    "#하나로 합치기 \n",
    "laws_data_list = json_data_chan_list+json_data_yu_list+json_data_sae_list+json_data_han_list\n",
    "print(len(laws_data_list))"
   ]
  },
  {
   "cell_type": "code",
   "execution_count": null,
   "id": "064ba83e-7174-4dca-9083-20afeaaebcc9",
   "metadata": {},
   "outputs": [],
   "source": []
  }
 ],
 "metadata": {
  "kernelspec": {
   "display_name": "Python 3 (ipykernel)",
   "language": "python",
   "name": "python3"
  },
  "language_info": {
   "codemirror_mode": {
    "name": "ipython",
    "version": 3
   },
   "file_extension": ".py",
   "mimetype": "text/x-python",
   "name": "python",
   "nbconvert_exporter": "python",
   "pygments_lexer": "ipython3",
   "version": "3.8.12"
  }
 },
 "nbformat": 4,
 "nbformat_minor": 5
}
